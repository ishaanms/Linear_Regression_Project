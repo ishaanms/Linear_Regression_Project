{
 "cells": [
  {
   "cell_type": "code",
   "execution_count": 58,
   "id": "d77e3f4a-3c69-4cec-b675-2448cc581c2f",
   "metadata": {},
   "outputs": [
    {
     "name": "stdout",
     "output_type": "stream",
     "text": [
      "<class 'pandas.core.frame.DataFrame'>\n",
      "RangeIndex: 2579 entries, 0 to 2578\n",
      "Data columns (total 7 columns):\n",
      " #   Column     Non-Null Count  Dtype  \n",
      "---  ------     --------------  -----  \n",
      " 0   Date       2579 non-null   object \n",
      " 1   Open       2579 non-null   float64\n",
      " 2   High       2579 non-null   float64\n",
      " 3   Low        2579 non-null   float64\n",
      " 4   Close      2579 non-null   float64\n",
      " 5   Adj Close  2579 non-null   float64\n",
      " 6   Volume     2579 non-null   int64  \n",
      "dtypes: float64(5), int64(1), object(1)\n",
      "memory usage: 141.2+ KB\n",
      "[ 8.87095614e-01  5.85513083e-01 -4.76088446e-01 -1.00579988e-08]\n",
      "0.21562506548211502\n",
      "Mean Absolute Error: 0.4691606825189661\n",
      "Mean Squared Error: 0.9033937311084915\n",
      "Root Mean Squared Error: 0.9504702683979608\n"
     ]
    },
    {
     "data": {
      "image/png": "[encoded data removed]",
      "text/plain": [
       "<Figure size 640x480 with 1 Axes>"
      ]
     },
     "metadata": {},
     "output_type": "display_data"
    }
   ],
   "source": [
    "# importing libraries\n",
    "import numpy as np\n",
    "import pandas as pd\n",
    "from sklearn import preprocessing\n",
    "from sklearn import metrics\n",
    "from sklearn.model_selection import train_test_split\n",
    "from sklearn.linear_model import LinearRegression\n",
    "import matplotlib.pyplot as plt\n",
    "import seaborn as sns\n",
    "import math\n",
    "\n",
    "# reading data\n",
    "data = pd.read_csv(\"TSLA.csv\")\n",
    "data.head()\n",
    "data.info()\n",
    "data.describe()\n",
    "data.columns\n",
    "\n",
    "\n",
    "X = data[['High','Low','Open','Volume']].values\n",
    "y = data['Close'].values\n",
    "X\n",
    "y\n",
    "\n",
    "# assigning training and test data\n",
    "X_train, X_test, y_train, y_test = train_test_split(X,y, test_size=0.3, random_state=1)\n",
    "LgR = LinearRegression()\n",
    "LgR.fit(X_train, y_train)\n",
    "print(LgR.coef_)\n",
    "print(LgR.intercept_)\n",
    "predicted = LgR.predict(X_test)\n",
    "\n",
    "# combining actual and predicted data\n",
    "data1 = pd.DataFrame({'Actual': y_test.flatten(), 'Predicted' : predicted.flatten()})\n",
    "data1.head(20)\n",
    "\n",
    "#plotting graph\n",
    "graph = data1.head(20)\n",
    "graph.plot(kind='bar')\n",
    "\n",
    "# mean absolute error\n",
    "print('Mean Absolute Error:', metrics.mean_absolute_error(y_test,predicted))\n",
    "print('Mean Squared Error:', metrics.mean_squared_error(y_test,predicted))\n",
    "print('Root Mean Squared Error:', math.sqrt(metrics.mean_squared_error(y_test,predicted)))"
   ]
  }
 ],
 "metadata": {
  "kernelspec": {
   "display_name": "Python 3 (ipykernel)",
   "language": "python",
   "name": "python3"
  },
  "language_info": {
   "codemirror_mode": {
    "name": "ipython",
    "version": 3
   },
   "file_extension": ".py",
   "mimetype": "text/x-python",
   "name": "python",
   "nbconvert_exporter": "python",
   "pygments_lexer": "ipython3",
   "version": "3.11.7"
  }
 },
 "nbformat": 4,
 "nbformat_minor": 5
}
